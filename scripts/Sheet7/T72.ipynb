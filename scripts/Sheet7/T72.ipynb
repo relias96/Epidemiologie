{
 "cells": [
  {
   "cell_type": "code",
   "execution_count": 1,
   "metadata": {},
   "outputs": [],
   "source": [
    "import matplotlib.pyplot as plt\n",
    "import numpy as np\n",
    "import sympy as sp\n",
    "from sympy import *\n",
    "from sympy.solvers.ode.systems import dsolve_system\n",
    "\n",
    "sp.init_printing(use_unicode=True)"
   ]
  },
  {
   "cell_type": "code",
   "execution_count": 27,
   "metadata": {},
   "outputs": [
    {
     "ename": "NotImplementedError",
     "evalue": "\nThe system of ODEs passed cannot be solved by dsolve_system.",
     "output_type": "error",
     "traceback": [
      "\u001b[0;31m---------------------------------------------------------------------------\u001b[0m",
      "\u001b[0;31mNotImplementedError\u001b[0m                       Traceback (most recent call last)",
      "\u001b[1;32m/Users/robin/Epidemiologie/scripts/Sheet7/T72.ipynb Cell 2\u001b[0m line \u001b[0;36m7\n\u001b[1;32m      <a href='vscode-notebook-cell:/Users/robin/Epidemiologie/scripts/Sheet7/T72.ipynb#W3sZmlsZQ%3D%3D?line=3'>4</a>\u001b[0m funcs \u001b[39m=\u001b[39m [s(t), i(t)]\n\u001b[1;32m      <a href='vscode-notebook-cell:/Users/robin/Epidemiologie/scripts/Sheet7/T72.ipynb#W3sZmlsZQ%3D%3D?line=4'>5</a>\u001b[0m eqs \u001b[39m=\u001b[39m [Eq(s(t)\u001b[39m.\u001b[39mdiff(t),  b\u001b[39m*\u001b[39ms(t) \u001b[39m+\u001b[39m b\u001b[39m*\u001b[39mi(t) \u001b[39m-\u001b[39m (d \u001b[39m+\u001b[39m (s(t) \u001b[39m+\u001b[39m i(t))\u001b[39m/\u001b[39mk) \u001b[39m*\u001b[39m s(t) \u001b[39m-\u001b[39m a\u001b[39m/\u001b[39m(a\u001b[39m+\u001b[39mc)\u001b[39m*\u001b[39ms(t)\u001b[39m*\u001b[39mi(t) \u001b[39m+\u001b[39m t\u001b[39m*\u001b[39mi(t)),\n\u001b[1;32m      <a href='vscode-notebook-cell:/Users/robin/Epidemiologie/scripts/Sheet7/T72.ipynb#W3sZmlsZQ%3D%3D?line=5'>6</a>\u001b[0m         Eq(i(t)\u001b[39m.\u001b[39mdiff(t), a\u001b[39m/\u001b[39m(a\u001b[39m+\u001b[39mc)\u001b[39m*\u001b[39ms(t)\u001b[39m*\u001b[39mi(t) \u001b[39m-\u001b[39m(d\u001b[39m+\u001b[39m(s(t)\u001b[39m+\u001b[39mi(t))\u001b[39m/\u001b[39mk \u001b[39m+\u001b[39m a \u001b[39m+\u001b[39m t)\u001b[39m*\u001b[39mi(t))]\n\u001b[0;32m----> <a href='vscode-notebook-cell:/Users/robin/Epidemiologie/scripts/Sheet7/T72.ipynb#W3sZmlsZQ%3D%3D?line=6'>7</a>\u001b[0m dsolve_system(eqs, funcs\u001b[39m=\u001b[39mfuncs, t\u001b[39m=\u001b[39mt,doit\u001b[39m=\u001b[39m\u001b[39mFalse\u001b[39;00m)\n",
      "File \u001b[0;32m~/miniconda3/envs/sywi/lib/python3.11/site-packages/sympy/solvers/ode/systems.py:2109\u001b[0m, in \u001b[0;36mdsolve_system\u001b[0;34m(eqs, funcs, t, ics, doit, simplify)\u001b[0m\n\u001b[1;32m   2106\u001b[0m         sol \u001b[39m=\u001b[39m \u001b[39mNone\u001b[39;00m\n\u001b[1;32m   2108\u001b[0m     \u001b[39mif\u001b[39;00m sol \u001b[39mis\u001b[39;00m \u001b[39mNone\u001b[39;00m:\n\u001b[0;32m-> 2109\u001b[0m         sol \u001b[39m=\u001b[39m _component_solver(canon_eq, funcs, t)\n\u001b[1;32m   2111\u001b[0m     sols\u001b[39m.\u001b[39mappend(sol)\n\u001b[1;32m   2113\u001b[0m \u001b[39mif\u001b[39;00m sols:\n",
      "File \u001b[0;32m~/miniconda3/envs/sywi/lib/python3.11/site-packages/sympy/solvers/ode/systems.py:1778\u001b[0m, in \u001b[0;36m_component_solver\u001b[0;34m(eqs, funcs, t)\u001b[0m\n\u001b[1;32m   1773\u001b[0m sol \u001b[39m=\u001b[39m []\n\u001b[1;32m   1775\u001b[0m \u001b[39mfor\u001b[39;00m wcc \u001b[39min\u001b[39;00m components:\n\u001b[1;32m   1776\u001b[0m \n\u001b[1;32m   1777\u001b[0m     \u001b[39m# wcc_sol: List of Equations\u001b[39;00m\n\u001b[0;32m-> 1778\u001b[0m     sol \u001b[39m+\u001b[39m\u001b[39m=\u001b[39m _weak_component_solver(wcc, t)\n\u001b[1;32m   1780\u001b[0m \u001b[39m# sol: List of Equations\u001b[39;00m\n\u001b[1;32m   1781\u001b[0m \u001b[39mreturn\u001b[39;00m sol\n",
      "File \u001b[0;32m~/miniconda3/envs/sywi/lib/python3.11/site-packages/sympy/solvers/ode/systems.py:1759\u001b[0m, in \u001b[0;36m_weak_component_solver\u001b[0;34m(wcc, t)\u001b[0m\n\u001b[1;32m   1756\u001b[0m scc_sol \u001b[39m=\u001b[39m _strong_component_solver(comp_eqs, funcs, t)\n\u001b[1;32m   1758\u001b[0m \u001b[39mif\u001b[39;00m scc_sol \u001b[39mis\u001b[39;00m \u001b[39mNone\u001b[39;00m:\n\u001b[0;32m-> 1759\u001b[0m     \u001b[39mraise\u001b[39;00m \u001b[39mNotImplementedError\u001b[39;00m(filldedent(\u001b[39m'''\u001b[39m\n\u001b[1;32m   1760\u001b[0m \u001b[39m        The system of ODEs passed cannot be solved by dsolve_system.\u001b[39m\n\u001b[1;32m   1761\u001b[0m \u001b[39m    \u001b[39m\u001b[39m'''\u001b[39m))\n\u001b[1;32m   1763\u001b[0m \u001b[39m# scc_sol: List of equations\u001b[39;00m\n\u001b[1;32m   1764\u001b[0m \u001b[39m# scc_sol is a solution\u001b[39;00m\n\u001b[1;32m   1765\u001b[0m sol \u001b[39m+\u001b[39m\u001b[39m=\u001b[39m scc_sol\n",
      "\u001b[0;31mNotImplementedError\u001b[0m: \nThe system of ODEs passed cannot be solved by dsolve_system."
     ]
    }
   ],
   "source": [
    "s, i = symbols(\"s i\", cls=Function)\n",
    "t = symbols(\"t\")\n",
    "#b,d,beta,a,t, c,k = sp.symbols('b d beta a t c k')\n",
    "b,d,a,t, c,k = [2,0.5,0.35,0.4,1,50]\n",
    "funcs = [s(t), i(t)]\n",
    "eqs = [Eq(s(t).diff(t),  b*s(t) + b*i(t) - (d + (s(t) + i(t))/k) * s(t) - a/(a+c)*s(t)*i(t) + t*i(t)),\n",
    "        Eq(i(t).diff(t), a/(a+c)*s(t)*i(t) -(d+(s(t)+i(t))/k + a + t)*i(t))]\n",
    "dsolve_system(eqs, funcs=funcs, t=t,doit=False)"
   ]
  },
  {
   "cell_type": "code",
   "execution_count": 28,
   "metadata": {},
   "outputs": [
    {
     "ename": "TypeError",
     "evalue": "'Symbol' object is not subscriptable",
     "output_type": "error",
     "traceback": [
      "\u001b[0;31m---------------------------------------------------------------------------\u001b[0m",
      "\u001b[0;31mTypeError\u001b[0m                                 Traceback (most recent call last)",
      "\u001b[1;32m/Users/robin/Epidemiologie/scripts/Sheet7/T72.ipynb Cell 3\u001b[0m line \u001b[0;36m3\n\u001b[1;32m      <a href='vscode-notebook-cell:/Users/robin/Epidemiologie/scripts/Sheet7/T72.ipynb#W1sZmlsZQ%3D%3D?line=0'>1</a>\u001b[0m S, I \u001b[39m=\u001b[39m sp\u001b[39m.\u001b[39msymbols(\u001b[39m'\u001b[39m\u001b[39mS I\u001b[39m\u001b[39m'\u001b[39m)\n\u001b[1;32m      <a href='vscode-notebook-cell:/Users/robin/Epidemiologie/scripts/Sheet7/T72.ipynb#W1sZmlsZQ%3D%3D?line=1'>2</a>\u001b[0m \u001b[39m# b,d,beta,a,t, c,k = sp.symbols('b d beta a t c k')\u001b[39;00m\n\u001b[0;32m----> <a href='vscode-notebook-cell:/Users/robin/Epidemiologie/scripts/Sheet7/T72.ipynb#W1sZmlsZQ%3D%3D?line=2'>3</a>\u001b[0m b,d,a,t, c,k [\u001b[39m2\u001b[39m,\u001b[39m0.5\u001b[39m,\u001b[39m0.35\u001b[39m,\u001b[39m0.4\u001b[39m,\u001b[39m1\u001b[39m,\u001b[39m50\u001b[39m]\n\u001b[1;32m      <a href='vscode-notebook-cell:/Users/robin/Epidemiologie/scripts/Sheet7/T72.ipynb#W1sZmlsZQ%3D%3D?line=3'>4</a>\u001b[0m dS \u001b[39m=\u001b[39m Eq(S, b\u001b[39m*\u001b[39mS \u001b[39m+\u001b[39m b\u001b[39m*\u001b[39mI \u001b[39m-\u001b[39m (d \u001b[39m+\u001b[39m (S \u001b[39m+\u001b[39m I)\u001b[39m/\u001b[39mk) \u001b[39m*\u001b[39m S \u001b[39m-\u001b[39m a\u001b[39m/\u001b[39m(a\u001b[39m+\u001b[39mc)\u001b[39m*\u001b[39mS\u001b[39m*\u001b[39mI \u001b[39m+\u001b[39m t\u001b[39m*\u001b[39mI)\n\u001b[1;32m      <a href='vscode-notebook-cell:/Users/robin/Epidemiologie/scripts/Sheet7/T72.ipynb#W1sZmlsZQ%3D%3D?line=4'>5</a>\u001b[0m dI \u001b[39m=\u001b[39m Eq(I, a\u001b[39m/\u001b[39m(a\u001b[39m+\u001b[39mc)\u001b[39m*\u001b[39mS\u001b[39m*\u001b[39mI \u001b[39m-\u001b[39m(d\u001b[39m+\u001b[39m(S\u001b[39m+\u001b[39mI)\u001b[39m/\u001b[39mk \u001b[39m+\u001b[39m a \u001b[39m+\u001b[39m t)\u001b[39m*\u001b[39mI)\n",
      "\u001b[0;31mTypeError\u001b[0m: 'Symbol' object is not subscriptable"
     ]
    }
   ],
   "source": [
    "S, I = sp.symbols('S I')\n",
    "# b,d,beta,a,t, c,k = sp.symbols('b d beta a t c k')\n",
    "b,d,a,t, c,k [2,0.5,0.35,0.4,1,50]\n",
    "dS = Eq(S, b*S + b*I - (d + (S + I)/k) * S - a/(a+c)*S*I + t*I)\n",
    "dI = Eq(I, a/(a+c)*S*I -(d+(S+I)/k + a + t)*I)\n",
    "f = Function(\"dS\")(S,I)\n",
    "g = Function(\"dI\")(S,I)\n",
    "dsolve([dS,dI],[f,g])\n",
    "##dS = b*S + b*I - (d + (S + I)/k) * S - a/(a+c)*S*I + t*I\n",
    "#dI = a/(a+c)*S*I -(d+(S+I)/k + a + t)*I\n",
    "#A = sp.solve([dS,dI], [S,I])"
   ]
  },
  {
   "cell_type": "code",
   "execution_count": null,
   "metadata": {},
   "outputs": [],
   "source": []
  }
 ],
 "metadata": {
  "kernelspec": {
   "display_name": "sywi",
   "language": "python",
   "name": "python3"
  },
  "language_info": {
   "codemirror_mode": {
    "name": "ipython",
    "version": 3
   },
   "file_extension": ".py",
   "mimetype": "text/x-python",
   "name": "python",
   "nbconvert_exporter": "python",
   "pygments_lexer": "ipython3",
   "version": "3.11.5"
  },
  "orig_nbformat": 4
 },
 "nbformat": 4,
 "nbformat_minor": 2
}
