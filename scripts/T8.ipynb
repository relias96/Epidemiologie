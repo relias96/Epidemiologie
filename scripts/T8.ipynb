{
 "cells": [
  {
   "cell_type": "code",
   "execution_count": 1,
   "metadata": {},
   "outputs": [],
   "source": [
    "import matplotlib.pyplot as plt\n",
    "import numpy as np\n",
    "import sympy as sp\n",
    "from scipy import optimize\n",
    "\n",
    "sp.init_printing(use_unicode=True)"
   ]
  },
  {
   "cell_type": "code",
   "execution_count": 65,
   "metadata": {},
   "outputs": [],
   "source": [
    "class PIP:\n",
    "    def __init__(self, p, symbols, f, getSI):\n",
    "        self.parameters = p\n",
    "        self.symbols = symbols\n",
    "        self.f = f\n",
    "        self.getSI = getSI\n",
    "\n",
    "    def getPIP(self,\n",
    "        alpha_res = np.linspace(1,1.5,100),\n",
    "        alpha_mut = np.linspace(1,1.5,100)):\n",
    "        \n",
    "        s, i = np.array([self.getSI(x) for x in alpha_res]).transpose()\n",
    "        a1,a2 = np.meshgrid(alpha_res, alpha_mut)\n",
    "        l = len(alpha_mut)\n",
    "        s=s.repeat(l).reshape((l,l)).transpose()\n",
    "        i=i.repeat(l).reshape((l,l)).transpose()\n",
    "\n",
    "        sol = np.empty((l**2))\n",
    "        for counter, (res,mut,s,i) in enumerate(zip(a1.flatten(), a2.flatten(),s.flatten(), i.flatten())):\n",
    "            sol[counter] = self.f(res,mut,s,i)\n",
    "        sol = sol.reshape((l,l))\n",
    "        #sol = np.sign(sol)\n",
    "        h = plt.contourf(alpha_res,alpha_mut, sol)\n",
    "        plt.axis('scaled')\n",
    "        plt.colorbar()\n",
    "        plt.show()"
   ]
  },
  {
   "cell_type": "code",
   "execution_count": 57,
   "metadata": {},
   "outputs": [],
   "source": [
    "p = b,d,t,c,k = 10.0, 1.0, 1.0, 1.0, 10.0\n",
    "symbols = S, I = sp.symbols('S I')\n",
    "\n",
    "\n",
    "def f(a_res, a_mut, S, I):\n",
    "    return a_mut/(a_mut+c)*S - (d + a_mut*(1 + (I/k)) + t)\n",
    "\n",
    "def getSI(a):\n",
    "    dS = (b-d)*S + b*I - a/(a+c)*S*I + t*I\n",
    "    dI = a/(a+c)*S*I -(d+a*(1+I/k)+ t)*I\n",
    "    A = sp.solve([dS,dI], [S,I])\n",
    "    #return A\n",
    "    return [x for x in A if (x[0] > 0 and x[1] >0)][0]\n",
    "\n",
    "def getSI2(a):\n",
    "    def SI(SI):\n",
    "        return[(b-d)*SI[0] + b*SI[1] - a/(a+c)*SI[0]*SI[1] + t*SI[1], a/(a+c)*SI[0]*SI[1] -(d+a*(1+SI[1]/k)+ t)*SI[1]]\n",
    "    return optimize.root(SI, [1000.0,1000.0]).x\n"
   ]
  },
  {
   "cell_type": "code",
   "execution_count": null,
   "metadata": {},
   "outputs": [],
   "source": [
    "model = PIP(p, symbols, f, getSI)\n",
    "model.getPIP(alpha_res = np.linspace(0.1,1,50), alpha_mut = np.linspace(0.1,1,50))"
   ]
  },
  {
   "cell_type": "code",
   "execution_count": 66,
   "metadata": {},
   "outputs": [
    {
     "data": {
      "image/png": "[encoded data removed]",
      "text/plain": [
       "<Figure size 640x480 with 2 Axes>"
      ]
     },
     "metadata": {},
     "output_type": "display_data"
    }
   ],
   "source": [
    "model = PIP(p, symbols, f, getSI2)\n",
    "model.getPIP(alpha_res = np.linspace(0.1,1,1000), alpha_mut = np.linspace(0.1,1,1000))"
   ]
  },
  {
   "cell_type": "code",
   "execution_count": 67,
   "metadata": {},
   "outputs": [
    {
     "data": {
      "image/png": "[encoded data removed]",
      "text/latex": [
       "$\\displaystyle -23.9428767643945$"
      ],
      "text/plain": [
       "-23.9428767643945"
      ]
     },
     "execution_count": 67,
     "metadata": {},
     "output_type": "execute_result"
    }
   ],
   "source": [
    "s,i = getSI(0.1)\n",
    "f(0.1,0.8,s,i)"
   ]
  },
  {
   "cell_type": "code",
   "execution_count": 62,
   "metadata": {},
   "outputs": [
    {
     "data": {
      "image/png": "[encoded data removed]",
      "text/latex": [
       "$\\displaystyle -23.9428767643945$"
      ],
      "text/plain": [
       "-23.9428767643945"
      ]
     },
     "execution_count": 62,
     "metadata": {},
     "output_type": "execute_result"
    }
   ],
   "source": []
  },
  {
   "cell_type": "code",
   "execution_count": null,
   "metadata": {},
   "outputs": [],
   "source": []
  }
 ],
 "metadata": {
  "kernelspec": {
   "display_name": "sywi",
   "language": "python",
   "name": "python3"
  },
  "language_info": {
   "codemirror_mode": {
    "name": "ipython",
    "version": 3
   },
   "file_extension": ".py",
   "mimetype": "text/x-python",
   "name": "python",
   "nbconvert_exporter": "python",
   "pygments_lexer": "ipython3",
   "version": "3.11.5"
  },
  "orig_nbformat": 4
 },
 "nbformat": 4,
 "nbformat_minor": 2
}
